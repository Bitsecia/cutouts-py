{
 "cells": [
  {
   "cell_type": "markdown",
   "metadata": {},
   "source": [
    "Usando Listas:"
   ]
  },
  {
   "cell_type": "code",
   "execution_count": 1,
   "metadata": {},
   "outputs": [
    {
     "name": "stdout",
     "output_type": "stream",
     "text": [
      "\n",
      "\n",
      "Iniciando a reprodução...\n",
      "\n",
      "Reproduzindo agora: hungriahiphop-amor-e-fe-a4c807bb...\n"
     ]
    }
   ],
   "source": [
    "from playsound import playsound\n",
    "\n",
    "dirBase = 'C:/wamp64/www/nlw/python/musics/'\n",
    "extension = '.mp3'\n",
    "musics = ['hungriahiphop-amor-e-fe-a4c807bb','hungriahiphop-beijo-com-trap-wwwpalcomp3comdjmixer-djmixeroficial-2116517c','hungriahiphop-coracao-de-aco-wwwpalcomp3comdjmixer-djmixeroficial-7f241d60']\n",
    "\n",
    "print('\\n\\nIniciando a reprodução...')\n",
    "\n",
    "for music in musics:\n",
    "  print('\\nReproduzindo agora: ' + music + '...')\n",
    "  playsound(dirBase + music + extension)\n",
    "\n",
    "print('\\n\\nFim da lista de reprodução!')"
   ]
  },
  {
   "cell_type": "markdown",
   "metadata": {},
   "source": [
    "Usando String:"
   ]
  },
  {
   "cell_type": "code",
   "execution_count": 4,
   "metadata": {},
   "outputs": [
    {
     "name": "stdout",
     "output_type": "stream",
     "text": [
      "\n",
      "\n",
      "Iniciando a reprodução...\n",
      "\n",
      "Reproduzindo: efeito1...\n",
      "\n",
      "Reproduzindo: efeito2...\n",
      "\n",
      "Reproduzindo: efeito3...\n",
      "\n",
      "Reproduzindo: efeito4...\n",
      "\n",
      "Reproduzindo: efeito5...\n",
      "\n",
      "Reproduzindo: efeito6...\n",
      "\n",
      "\n",
      "Fim da reprodução...\n"
     ]
    }
   ],
   "source": [
    "from playsound import playsound\n",
    "\n",
    "dirBase = 'C:/wamp64/www/nlw/python/musics/'\n",
    "nameBase = 'efeito'\n",
    "extension = '.mp3'\n",
    "\n",
    "print('\\n\\nIniciando a reprodução...')\n",
    "\n",
    "song = '1'\n",
    "print('\\nReproduzindo: ' + nameBase + song + '...')\n",
    "playsound(dirBase + nameBase + song + extension)\n",
    "\n",
    "song = song.replace('1','2')\n",
    "print('\\nReproduzindo: ' + nameBase + song + '...')\n",
    "playsound(dirBase + nameBase + song + extension)\n",
    "\n",
    "song = song.replace('2','3')\n",
    "print('\\nReproduzindo: ' + nameBase + song + '...')\n",
    "playsound(dirBase + nameBase + song + extension)\n",
    "\n",
    "song = song.replace('3','4')\n",
    "print('\\nReproduzindo: ' + nameBase + song + '...')\n",
    "playsound(dirBase + nameBase + song + extension)\n",
    "\n",
    "song = song.replace('4','5')\n",
    "print('\\nReproduzindo: ' + nameBase + song + '...')\n",
    "playsound(dirBase + nameBase + song + extension)\n",
    "\n",
    "song = song.replace('5','6')\n",
    "print('\\nReproduzindo: ' + nameBase + song + '...')\n",
    "playsound(dirBase + nameBase + song + extension)\n",
    "\n",
    "print('\\n\\nFim da reprodução...')\n"
   ]
  },
  {
   "cell_type": "markdown",
   "metadata": {},
   "source": [
    "Manipulação de strings"
   ]
  },
  {
   "cell_type": "code",
   "execution_count": 26,
   "metadata": {},
   "outputs": [
    {
     "name": "stdout",
     "output_type": "stream",
     "text": [
      "Seu nome completo é: Antonio Filho Souza de Mendonça\n",
      "\n",
      "Seu primeiro nome é: Antonio\n",
      "\n",
      "Seu último nome é:  Mendonça\n"
     ]
    }
   ],
   "source": [
    "# Usando manipulação de string:\n",
    "\n",
    "name = input('Digite seu nome completo: ')\n",
    "\n",
    "firstName = name[: name.find(' ')]\n",
    "lastName = name[ name.rfind(' ') : len(name)]\n",
    "\n",
    "print('Seu nome completo é: ' + name + '\\n')\n",
    "print('Seu primeiro nome é: ' + firstName + '\\n')\n",
    "print('Seu último nome é: ' + lastName)\n"
   ]
  },
  {
   "cell_type": "code",
   "execution_count": 27,
   "metadata": {},
   "outputs": [
    {
     "name": "stdout",
     "output_type": "stream",
     "text": [
      "Seu nome completo é: Antonio Filho Souza de Mendonça\n",
      "\n",
      "Seu primeiro nome é: Antonio\n",
      "\n",
      "Seu último nome é: Mendonça\n"
     ]
    }
   ],
   "source": [
    "# usando a função split\n",
    "\n",
    "name = input('Digite seu nome completo: ')\n",
    "\n",
    "listName = name.split()\n",
    "\n",
    "firstName = listName[0]\n",
    "lastName = listName[len(listName)-1]\n",
    "\n",
    "print('Seu nome completo é: ' + name + '\\n')\n",
    "print('Seu primeiro nome é: ' + firstName + '\\n')\n",
    "print('Seu último nome é: ' + lastName)"
   ]
  }
 ],
 "metadata": {
  "kernelspec": {
   "display_name": "Python 3",
   "language": "python",
   "name": "python3"
  },
  "language_info": {
   "codemirror_mode": {
    "name": "ipython",
    "version": 3
   },
   "file_extension": ".py",
   "mimetype": "text/x-python",
   "name": "python",
   "nbconvert_exporter": "python",
   "pygments_lexer": "ipython3",
   "version": "3.12.2"
  }
 },
 "nbformat": 4,
 "nbformat_minor": 2
}
